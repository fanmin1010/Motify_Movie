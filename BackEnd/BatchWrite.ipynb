{
 "cells": [
  {
   "cell_type": "code",
   "execution_count": 32,
   "metadata": {
    "collapsed": true
   },
   "outputs": [],
   "source": [
    "import boto3\n",
    "import re\n",
    "import csv\n",
    "import json\n",
    "import time"
   ]
  },
  {
   "cell_type": "code",
   "execution_count": 49,
   "metadata": {},
   "outputs": [
    {
     "data": {
      "text/plain": [
       "{'ResponseMetadata': {'HTTPHeaders': {'connection': 'keep-alive',\n",
       "   'content-length': '488',\n",
       "   'content-type': 'application/x-amz-json-1.0',\n",
       "   'date': 'Mon, 08 May 2017 02:37:33 GMT',\n",
       "   'server': 'Server',\n",
       "   'x-amz-crc32': '333476047',\n",
       "   'x-amzn-requestid': 'NPQVST3SPRT6S1PI1U1DO107R3VV4KQNSO5AEMVJF66Q9ASUAAJG'},\n",
       "  'HTTPStatusCode': 200,\n",
       "  'RequestId': 'NPQVST3SPRT6S1PI1U1DO107R3VV4KQNSO5AEMVJF66Q9ASUAAJG',\n",
       "  'RetryAttempts': 0},\n",
       " u'TableDescription': {u'AttributeDefinitions': [{u'AttributeName': u'movieIndex',\n",
       "    u'AttributeType': u'S'}],\n",
       "  u'CreationDateTime': datetime.datetime(2017, 5, 7, 22, 37, 33, 368000, tzinfo=tzlocal()),\n",
       "  u'ItemCount': 0,\n",
       "  u'KeySchema': [{u'AttributeName': u'movieIndex', u'KeyType': u'HASH'}],\n",
       "  u'ProvisionedThroughput': {u'NumberOfDecreasesToday': 0,\n",
       "   u'ReadCapacityUnits': 10,\n",
       "   u'WriteCapacityUnits': 10},\n",
       "  u'TableArn': u'arn:aws:dynamodb:us-east-1:560951035742:table/Movie',\n",
       "  u'TableName': u'Movie',\n",
       "  u'TableSizeBytes': 0,\n",
       "  u'TableStatus': u'CREATING'}}"
      ]
     },
     "execution_count": 49,
     "metadata": {},
     "output_type": "execute_result"
    }
   ],
   "source": [
    "AWS_ACCESS_KEY = 'Input Here'\n",
    "AWS_SECRET_KEY = 'Input Here'\n",
    "DYNAMODB_TABLE_NAME = 'Movie'\n",
    "dynamodb = boto3.client('dynamodb',region_name='us-east-1',aws_access_key_id=AWS_ACCESS_KEY, aws_secret_access_key=AWS_SECRET_KEY)\n",
    "dynamodb.create_table(TableName=DYNAMODB_TABLE_NAME,\n",
    "\t\t\tKeySchema=[\n",
    "\t\t\t{\n",
    "\t\t\t'AttributeName': 'movieIndex',\n",
    "\t\t\t'KeyType': 'HASH'\n",
    "\t\t\t}\n",
    "\t\t\t],\n",
    "\t\t\tAttributeDefinitions=[\n",
    "\t\t\t{\n",
    "\t\t\t'AttributeName': 'movieIndex',\n",
    "\t\t\t'AttributeType': 'S'\n",
    "\t\t\t}\n",
    "\t\t\t],\n",
    "\t\t\tProvisionedThroughput={\n",
    "\t\t\t'ReadCapacityUnits': 10,\n",
    "\t\t\t'WriteCapacityUnits': 10\n",
    "\t\t\t}\n",
    "\t\t\t)"
   ]
  },
  {
   "cell_type": "code",
   "execution_count": 50,
   "metadata": {
    "collapsed": true
   },
   "outputs": [],
   "source": [
    "dynamodb = boto3.resource('dynamodb',region_name='us-east-1',aws_access_key_id=AWS_ACCESS_KEY, aws_secret_access_key=AWS_SECRET_KEY)\n",
    "table = dynamodb.Table('Movie')\n"
   ]
  },
  {
   "cell_type": "code",
   "execution_count": null,
   "metadata": {},
   "outputs": [
    {
     "name": "stdout",
     "output_type": "stream",
     "text": [
      "Finish2000lines\n",
      "Finish3000lines\n",
      "Finish4000lines\n",
      "Finish5000lines\n",
      "Finish6000lines\n",
      "Finish7000lines\n",
      "Finish8000lines\n",
      "Finish9000lines\n",
      "Finish10000lines\n",
      "Finish11000lines\n",
      "Finish12000lines\n",
      "Finish13000lines\n",
      "Finish14000lines\n",
      "Finish15000lines\n",
      "Finish16000lines\n",
      "Finish17000lines\n"
     ]
    }
   ],
   "source": [
    "items = []\n",
    "mydict = {}\n",
    "i = 0\n",
    "with open('movies.csv') as csvfile:\n",
    "            reader = csv.DictReader(csvfile)\n",
    "            for row in reader:\n",
    "                mydict = {}\n",
    "                mydict['genres'] = row['genres'].split('|')\n",
    "                mydict['movieId'] = row['movieId']\n",
    "                mydict['title'] = re.sub(\"[\\(\\[].*?[\\)\\]]\", \"\", row['title'])\n",
    "                mydict['movieIndex'] = str(i)\n",
    "                items.append(mydict)\n",
    "                i+=1\n",
    "counter = 0\n",
    "\n",
    "with table.batch_writer() as batch:\n",
    "    for item in items:\n",
    "        batch.put_item(Item= item)\n",
    "        if counter > 1000 and counter % 1000 == 0:\n",
    "            print \"Finish\"+str(counter)+\"lines\"\n",
    "        counter += 1"
   ]
  }
 ],
 "metadata": {
  "kernelspec": {
   "display_name": "Python 2",
   "language": "python",
   "name": "python2"
  },
  "language_info": {
   "codemirror_mode": {
    "name": "ipython",
    "version": 2
   },
   "file_extension": ".py",
   "mimetype": "text/x-python",
   "name": "python",
   "nbconvert_exporter": "python",
   "pygments_lexer": "ipython2",
   "version": "2.7.13"
  }
 },
 "nbformat": 4,
 "nbformat_minor": 2
}
