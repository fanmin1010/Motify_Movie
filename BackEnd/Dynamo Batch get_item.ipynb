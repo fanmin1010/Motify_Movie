{
 "cells": [
  {
   "cell_type": "code",
   "execution_count": 1,
   "metadata": {
    "collapsed": true
   },
   "outputs": [],
   "source": [
    "#Note that the Movie Table is in US-EAST-1"
   ]
  },
  {
   "cell_type": "code",
   "execution_count": 10,
   "metadata": {
    "collapsed": true
   },
   "outputs": [],
   "source": [
    "import boto3\n",
    "AWS_ACCESS_KEY = 'Input Here'\n",
    "AWS_SECRET_KEY = 'Input Here'\n",
    "dynamodb = boto3.client('dynamodb', region_name=\"us-east-1\", aws_access_key_id = AWS_ACCESS_KEY, aws_secret_access_key = AWS_SECRET_KEY)\n",
    "# dynamodb.describe_table(TableName='Movie')"
   ]
  },
  {
   "cell_type": "code",
   "execution_count": 11,
   "metadata": {},
   "outputs": [
    {
     "name": "stdout",
     "output_type": "stream",
     "text": [
      "[17109, 2322, 12798, 31170, 36479, 30832, 26504, 24310, 19906]\n"
     ]
    }
   ],
   "source": [
    "# generate 10 random numbers from table Movie's size\n",
    "from random import randint\n",
    "x=[randint(0,40000) for p in range(0,9)]\n",
    "print x"
   ]
  },
  {
   "cell_type": "code",
   "execution_count": 13,
   "metadata": {},
   "outputs": [
    {
     "name": "stdout",
     "output_type": "stream",
     "text": [
      "<type 'dict'>\n",
      "Leather Jacket Love Story\n"
     ]
    }
   ],
   "source": [
    "# bulk get\n",
    "ids = ['174','1769']\n",
    "keys = [{'movieIndex':  {'S':i}} for i in ids]\n",
    "print type(keys[1])\n",
    "# print first title\n",
    "print dynamodb.batch_get_item(RequestItems = {\"Movie\":{\"Keys\":keys}})[u'Responses'][u'Movie'][0][u'title'][u'S'].encode('ascii','ignore').strip()\n",
    "#[u'Responses'][u'Movie'][0][u'title'][u'S'].encode('ascii','ignore').strip()"
   ]
  },
  {
   "cell_type": "code",
   "execution_count": null,
   "metadata": {
    "collapsed": true
   },
   "outputs": [],
   "source": []
  },
  {
   "cell_type": "code",
   "execution_count": null,
   "metadata": {
    "collapsed": true
   },
   "outputs": [],
   "source": []
  }
 ],
 "metadata": {
  "kernelspec": {
   "display_name": "Python 2",
   "language": "python",
   "name": "python2"
  },
  "language_info": {
   "codemirror_mode": {
    "name": "ipython",
    "version": 2
   },
   "file_extension": ".py",
   "mimetype": "text/x-python",
   "name": "python",
   "nbconvert_exporter": "python",
   "pygments_lexer": "ipython2",
   "version": "2.7.13"
  }
 },
 "nbformat": 4,
 "nbformat_minor": 2
}
