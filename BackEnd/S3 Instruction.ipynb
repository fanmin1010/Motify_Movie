{
 "cells": [
  {
   "cell_type": "code",
   "execution_count": 2,
   "metadata": {
    "collapsed": true
   },
   "outputs": [],
   "source": [
    "import boto3\n"
   ]
  },
  {
   "cell_type": "code",
   "execution_count": 3,
   "metadata": {
    "collapsed": true
   },
   "outputs": [],
   "source": [
    "AWS_ACCESS_KEY = 'Input Here'\n",
    "AWS_SECRET_KEY = 'Input Here'\n",
    "s3 = boto3.client('s3', aws_access_key_id=AWS_ACCESS_KEY, aws_secret_access_key=AWS_SECRET_KEY)\n"
   ]
  },
  {
   "cell_type": "markdown",
   "metadata": {},
   "source": [
    "## Get Bucket List"
   ]
  },
  {
   "cell_type": "code",
   "execution_count": 5,
   "metadata": {},
   "outputs": [
    {
     "name": "stdout",
     "output_type": "stream",
     "text": [
      "Bucket List: ['aws-logs-031633745261-us-east-1', 'elasticbeanstalk-us-east-1-031633745261', 'elasticbeanstalk-us-west-2-031633745261', 'nyctrains']\n"
     ]
    }
   ],
   "source": [
    "response = s3.list_buckets()\n",
    "buckets = [bucket['Name'] for bucket in response['Buckets']]\n",
    "# Print out the bucket list\n",
    "print(\"Bucket List: %s\" % buckets)"
   ]
  },
  {
   "cell_type": "markdown",
   "metadata": {},
   "source": [
    "## Create Bucket"
   ]
  },
  {
   "cell_type": "code",
   "execution_count": 7,
   "metadata": {},
   "outputs": [
    {
     "data": {
      "text/plain": [
       "{u'Location': '/Motify',\n",
       " 'ResponseMetadata': {'HTTPHeaders': {'content-length': '0',\n",
       "   'date': 'Sat, 06 May 2017 15:20:25 GMT',\n",
       "   'location': '/Motify',\n",
       "   'server': 'AmazonS3',\n",
       "   'x-amz-id-2': 'qREinkVsIgzRMXvy+PaV95rmT/j9gnlKIQzJDrKiEo3gbXJ5uUM9pLs23US2z3Petfq0SOmtuFM=',\n",
       "   'x-amz-request-id': 'D4EAE5685962D96A'},\n",
       "  'HTTPStatusCode': 200,\n",
       "  'HostId': 'qREinkVsIgzRMXvy+PaV95rmT/j9gnlKIQzJDrKiEo3gbXJ5uUM9pLs23US2z3Petfq0SOmtuFM=',\n",
       "  'RequestId': 'D4EAE5685962D96A',\n",
       "  'RetryAttempts': 0}}"
      ]
     },
     "execution_count": 7,
     "metadata": {},
     "output_type": "execute_result"
    }
   ],
   "source": [
    "s3.create_bucket(Bucket='Motify')"
   ]
  },
  {
   "cell_type": "markdown",
   "metadata": {},
   "source": [
    "## Upload a file"
   ]
  },
  {
   "cell_type": "code",
   "execution_count": 8,
   "metadata": {
    "collapsed": true
   },
   "outputs": [],
   "source": [
    "filename = 'README.md'\n",
    "bucketname = 'Motify'\n",
    "s3.upload_file(filename, bucketname, filename)"
   ]
  },
  {
   "cell_type": "markdown",
   "metadata": {},
   "source": [
    "## Rename a File Through Copying"
   ]
  },
  {
   "cell_type": "code",
   "execution_count": 10,
   "metadata": {},
   "outputs": [
    {
     "data": {
      "text/plain": [
       "{'ResponseMetadata': {'HTTPHeaders': {'date': 'Sat, 06 May 2017 15:44:07 GMT',\n",
       "   'server': 'AmazonS3',\n",
       "   'x-amz-id-2': 'DNP25VjMHjRkk/jfc8pOM1lah5WiTUcCccERbjtZvnui0bihZC/JF0WSMJX4vXJYEfPdeHoY3CA=',\n",
       "   'x-amz-request-id': '914FD3A553FD7A02'},\n",
       "  'HTTPStatusCode': 204,\n",
       "  'HostId': 'DNP25VjMHjRkk/jfc8pOM1lah5WiTUcCccERbjtZvnui0bihZC/JF0WSMJX4vXJYEfPdeHoY3CA=',\n",
       "  'RequestId': '914FD3A553FD7A02',\n",
       "  'RetryAttempts': 0}}"
      ]
     },
     "execution_count": 10,
     "metadata": {},
     "output_type": "execute_result"
    }
   ],
   "source": [
    "copy_source = {'Bucket': 'Motify','Key': 'README.md'}\n",
    "s3.copy(copy_source, 'Motify', 'README2.md')\n",
    "s3.delete_object(Bucket='Motify',Key='README.md')"
   ]
  },
  {
   "cell_type": "markdown",
   "metadata": {},
   "source": [
    "## Download a File"
   ]
  },
  {
   "cell_type": "code",
   "execution_count": 13,
   "metadata": {
    "collapsed": true
   },
   "outputs": [],
   "source": [
    "s3.download_file('Motify', 'README2.md', 'hello.md')"
   ]
  },
  {
   "cell_type": "code",
   "execution_count": 14,
   "metadata": {
    "collapsed": true
   },
   "outputs": [],
   "source": [
    "import csv\n",
    "RESULTS = [[1,2,3],[2,3,4]]\n",
    "def uploadtoS3(updatedfile):\n",
    "    with open(\"output.csv\",'wb') as resultFile:\n",
    "        wr = csv.writer(resultFile, dialect='excel')\n",
    "        wr.writerows(updatedfile)\n",
    "uploadtoS3(RESULTS)"
   ]
  },
  {
   "cell_type": "code",
   "execution_count": null,
   "metadata": {
    "collapsed": true
   },
   "outputs": [],
   "source": []
  }
 ],
 "metadata": {
  "kernelspec": {
   "display_name": "Python 2",
   "language": "python",
   "name": "python2"
  },
  "language_info": {
   "codemirror_mode": {
    "name": "ipython",
    "version": 2
   },
   "file_extension": ".py",
   "mimetype": "text/x-python",
   "name": "python",
   "nbconvert_exporter": "python",
   "pygments_lexer": "ipython2",
   "version": "2.7.13"
  }
 },
 "nbformat": 4,
 "nbformat_minor": 2
}
